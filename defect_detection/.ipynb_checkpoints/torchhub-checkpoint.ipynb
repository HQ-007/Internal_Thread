{
 "cells": [
  {
   "cell_type": "code",
   "execution_count": 1,
   "metadata": {
    "pycharm": {
     "is_executing": true
    }
   },
   "outputs": [],
   "source": [
    "import torch\n",
    "import os\n",
    "import math\n",
    "import numpy as np\n",
    "import glob \n",
    "import pandas as pd\n",
    "import matplotlib.pyplot as plt\n",
    "from PIL import Image\n",
    "import random\n",
    "import time\n",
    "import cv2\n",
    "import torch\n",
    "import torch.nn as nn\n",
    "import torch.nn.functional as F\n",
    "from torch.utils.data import Dataset, DataLoader\n",
    "from torchvision import transforms\n",
    "import xml.etree.ElementTree as ET\n",
    "import torchvision\n",
    "import torch.distributed as distributed\n",
    "from PIL import ImageGrab\n"
   ]
  },
  {
   "cell_type": "code",
   "execution_count": null,
   "metadata": {},
   "outputs": [
    {
     "name": "stderr",
     "output_type": "stream",
     "text": [
      "/home/huangqing/.conda/envs/hq/lib/python3.7/site-packages/torch/hub.py:267: UserWarning: You are about to download and run code from an untrusted repository. In a future release, this won't be allowed. To add the repository to your trusted list, change the command to {calling_fn}(..., trust_repo=False) and a command prompt will appear asking for an explicit confirmation of trust, or load(..., trust_repo=True), which will assume that the prompt is to be answered with 'yes'. You can also use load(..., trust_repo='check') which will only prompt for confirmation if the repo is not already trusted. This will eventually be the default behaviour\n",
      "  \"You are about to download and run code from an untrusted repository. In a future release, this won't \"\n",
      "Downloading: \"https://github.com/ultralytics/yolov5/zipball/master\" to /home/huangqing/.cache/torch/hub/master.zip\n",
      "\u001b[31m\u001b[1mrequirements:\u001b[0m YOLOv5 requirement \"scipy>=1.4.1\" not found, attempting AutoUpdate...\n"
     ]
    }
   ],
   "source": [
    "model = torch.hub.load('ultralytics/yolov5', 'custom', path=r'yolov5-master/runs/train/exp4/weights/best.pt')"
   ]
  },
  {
   "cell_type": "code",
   "execution_count": null,
   "metadata": {},
   "outputs": [],
   "source": [
    "model=model.to('cuda')\n",
    "names ={'0':'CT','1':'CT_HEAD','2':'T','3':'T_HEAD'}\n",
    " \n",
    "while True:\n",
    "    img = ImageGrab.grab(bbox=(0,0,1000,800)) #bbox specifies specific region (bbox= x,y,width,height *starts top-left)\n",
    "    img_np = np.array(img) #this is the array obtained from conversion    \n",
    "    model.eval()\n",
    "    # img_tensor = torch.from_numpy(img_fortensor/255).permute(2,0,1).float().to('cuda')\n",
    "    # img_np.to('cuda')\n",
    "    out = model(img_np)\n",
    "    print(out.pandas().xyxy[0])\n",
    "    # boxes = out[0]['boxes'].cpu().detach().numpy().astype(int)\n",
    "    # labels = out[0]['labels'].cpu().detach().numpy().astype(np.uint8)\n",
    "    # scores = out[0]['scores'].cpu().detach().numpy()\n",
    "    \n",
    "    # for idx in range(boxes.shape[0]):\n",
    "    #     if scores[idx] >= 0.95:\n",
    "    #         x1, y1, x2, y2 = boxes[idx][0], boxes[idx][1], boxes[idx][2], boxes[idx][3]\n",
    "    #         name = names.get(str(labels[idx].item()))\n",
    "    #         score_out=round(scores[idx],3)\n",
    "    #         print(score_out)\n",
    "    #         cv2.rectangle(show_img,(x1,y1),(x2,y2),(0,255.,0),thickness=1)\n",
    "    #         cv2.putText(show_img, text='{},{}'.format(name,str(score_out)), org=(x1, y1+10), fontFace=cv2.FONT_HERSHEY_SIMPLEX, \n",
    "    #             fontScale=0.5, thickness=1, lineType=cv2.LINE_AA, color=(0, 0, 255))\n",
    "    cv2.imshow(\"detection\", img_np)\n",
    "    if cv2.waitKey(25) & 0xFF== ord('q'):\n",
    "        cv2.destroyAllWindows()\n",
    "        break"
   ]
  },
  {
   "cell_type": "code",
   "execution_count": null,
   "metadata": {},
   "outputs": [],
   "source": [
    "import pyautogui\n",
    "import cv2\n",
    "\n",
    "model=model.to('cuda')\n",
    "names ={'0':'CT','1':'CT_HEAD','2':'T','3':'T_HEAD'}\n",
    " \n",
    "while True:\n",
    "    img = pyautogui.screenshot(region=[0,0,1000,800]) # x,y,w,h\n",
    "    # img.save('screenshot.png')\n",
    "    img_np = cv2.cvtColor(np.asarray(img),cv2.COLOR_BGR2RGB)   \n",
    "\n",
    "    model.eval()\n",
    "    img_tensor = torch.from_numpy(img_np).float().to('cuda')\n",
    "    out = model(img_np)\n",
    "    \n",
    "    \n",
    "    boxes=out.pandas().xyxy[0]\n",
    "\n",
    "    \n",
    "\n",
    "    # boxes = out[0]['boxes'].cpu().detach().numpy().astype(int)\n",
    "    # labels = out[0]['labels'].cpu().detach().numpy().astype(np.uint8)\n",
    "    # scores = out[0]['scores'].cpu().detach().numpy()\n",
    "     \n",
    "\n",
    "    for idx in range(boxes.shape[0]):\n",
    "        if boxes['confidence'][idx] >= 0.25:\n",
    "            x1, y1, x2, y2 = boxes['xmin'][idx], boxes['ymin'][idx],  boxes['xmax'][idx],  boxes['ymax'][idx]\n",
    "            print(x1,y1,x2,y2)\n",
    "            name = str(boxes['name'][idx])\n",
    "            score_out=round(boxes['confidence'][idx],3)\n",
    "            print(score_out)\n",
    "            cv2.rectangle(img_np,(int(x1),int(y1)),(int(x2),int(y2)),(0,255.,0),thickness=1)\n",
    "            cv2.putText(img_np, text='{},{}'.format(name,str(score_out)), org=(int(x1), int(y1)+10), fontFace=cv2.FONT_HERSHEY_SIMPLEX, \n",
    "                fontScale=0.5, thickness=1, lineType=cv2.LINE_AA, color=(0, 0, 255))\n",
    "\n",
    "    cv2.imshow(\"detection\", img_np)\n",
    "    if cv2.waitKey(25) & 0xFF== ord('q'):\n",
    "        cv2.destroyAllWindows()\n",
    "        break"
   ]
  },
  {
   "cell_type": "code",
   "execution_count": null,
   "metadata": {},
   "outputs": [],
   "source": []
  }
 ],
 "metadata": {
  "interpreter": {
   "hash": "b3ba2566441a7c06988d0923437866b63cedc61552a5af99d1f4fb67d367b25f"
  },
  "kernelspec": {
   "display_name": "Python 3 (ipykernel)",
   "language": "python",
   "name": "python3"
  },
  "language_info": {
   "codemirror_mode": {
    "name": "ipython",
    "version": 3
   },
   "file_extension": ".py",
   "mimetype": "text/x-python",
   "name": "python",
   "nbconvert_exporter": "python",
   "pygments_lexer": "ipython3",
   "version": "3.7.12"
  }
 },
 "nbformat": 4,
 "nbformat_minor": 2
}
